{
 "cells": [
  {
   "cell_type": "code",
   "execution_count": 2,
   "metadata": {},
   "outputs": [
    {
     "name": "stderr",
     "output_type": "stream",
     "text": [
      "C:\\Users\\sshek\\Anaconda3\\lib\\site-packages\\sklearn\\ensemble\\weight_boosting.py:29: DeprecationWarning: numpy.core.umath_tests is an internal NumPy module and should not be imported. It will be removed in a future NumPy release.\n",
      "  from numpy.core.umath_tests import inner1d\n"
     ]
    }
   ],
   "source": [
    "from mlxtend.data import loadlocal_mnist\n",
    "from sklearn.model_selection import train_test_split\n",
    "from sklearn.linear_model import LogisticRegression\n",
    "from sklearn.ensemble import RandomForestClassifier\n",
    "from sklearn.model_selection import train_test_split\n",
    "import numpy as np\n",
    "import pandas as pd\n",
    "import csv"
   ]
  },
  {
   "cell_type": "code",
   "execution_count": 3,
   "metadata": {},
   "outputs": [],
   "source": [
    "with open('../name.csv', mode='w') as name_file:\n",
    "    name_writer = csv.writer(name_file, delimiter=',')\n",
    "    name_writer.writerow(['sshekha4'])"
   ]
  },
  {
   "cell_type": "code",
   "execution_count": 4,
   "metadata": {},
   "outputs": [],
   "source": [
    "train_val_images, train_val_labels = loadlocal_mnist(\n",
    "        images_path='../dataset/train-images.idx3-ubyte', \n",
    "        labels_path='../dataset/train-labels.idx1-ubyte')\n",
    "test_images, test_labels = loadlocal_mnist(\n",
    "        images_path='../dataset/t10k-images.idx3-ubyte', \n",
    "        labels_path='../dataset/t10k-labels.idx1-ubyte')"
   ]
  },
  {
   "cell_type": "code",
   "execution_count": 23,
   "metadata": {},
   "outputs": [
    {
     "name": "stdout",
     "output_type": "stream",
     "text": [
      "Dimensions: 60000 x 784\n",
      "0\n"
     ]
    }
   ],
   "source": [
    "print('Dimensions: %s x %s' % (train_val_images.shape[0], train_val_images.shape[1]))\n",
    "print(train_val_labels[1])"
   ]
  },
  {
   "cell_type": "code",
   "execution_count": 5,
   "metadata": {},
   "outputs": [],
   "source": [
    "# Dividing the training set into training and validation set for parameter tuning\n",
    "train_images, val_images, train_labels, val_labels = train_test_split(train_val_images, train_val_labels, test_size=0.2, random_state=1)"
   ]
  },
  {
   "cell_type": "code",
   "execution_count": 6,
   "metadata": {},
   "outputs": [
    {
     "name": "stdout",
     "output_type": "stream",
     "text": [
      "Accuracy = 91.31666666666666% for C = 0.001\n",
      "Accuracy = 91.19166666666668% for C = 0.01\n",
      "Accuracy = 91.24166666666666% for C = 0.1\n",
      "Accuracy = 91.21666666666667% for C = 1\n",
      "Accuracy = 91.2% for C = 10\n",
      "Accuracy = 91.21666666666667% for C = 100\n",
      "Accuracy = 91.18333333333334% for C = 1000\n",
      "Max Accuracy = 91.31666666666666% for C = 0.001\n"
     ]
    }
   ],
   "source": [
    "## Logistic Regression\n",
    "\n",
    "# Varying the value of C to find the best value\n",
    "C = [0.001, 0.01, 0.1, 1, 10, 100, 1000]\n",
    "max_score = 0.0\n",
    "for val in C:\n",
    "    logisticRegr = LogisticRegression(solver=\"lbfgs\", C=val)\n",
    "    logisticRegr.fit(train_images, train_labels)\n",
    "    score = logisticRegr.score(val_images, val_labels)\n",
    "    if(score >= max_score):\n",
    "        max_score = score\n",
    "        C_opt = val\n",
    "    print(\"Accuracy = {0}% for C = {1}\".format(score*100, val))\n",
    "print(\"Max Accuracy = {0}% for C = {1}\".format(max_score*100, C_opt))"
   ]
  },
  {
   "cell_type": "code",
   "execution_count": 7,
   "metadata": {},
   "outputs": [
    {
     "data": {
      "text/plain": [
       "LogisticRegression(C=0.001, class_weight=None, dual=False, fit_intercept=True,\n",
       "          intercept_scaling=1, max_iter=100, multi_class='ovr', n_jobs=1,\n",
       "          penalty='l2', random_state=None, solver='lbfgs', tol=0.0001,\n",
       "          verbose=0, warm_start=False)"
      ]
     },
     "execution_count": 7,
     "metadata": {},
     "output_type": "execute_result"
    }
   ],
   "source": [
    "# Training the model using the value of C that gives highest score with validation data\n",
    "logisticRegr = LogisticRegression(solver=\"lbfgs\", C=C_opt)\n",
    "logisticRegr.fit(train_val_images, train_val_labels)"
   ]
  },
  {
   "cell_type": "code",
   "execution_count": 8,
   "metadata": {},
   "outputs": [
    {
     "name": "stdout",
     "output_type": "stream",
     "text": [
      "[7 2 1 ... 4 5 6]\n"
     ]
    }
   ],
   "source": [
    "# Prediction using Logistic Regression\n",
    "predictions = logisticRegr.predict(test_images)\n",
    "print(predictions)"
   ]
  },
  {
   "cell_type": "code",
   "execution_count": 9,
   "metadata": {},
   "outputs": [],
   "source": [
    "#Creating a dataframe of 10000*10 with zeros\n",
    "zero_data = np.zeros(shape=(10000,10), dtype='int32')\n",
    "df = pd.DataFrame(data = zero_data, index = pd.Series(range(1,10001)))"
   ]
  },
  {
   "cell_type": "code",
   "execution_count": 10,
   "metadata": {},
   "outputs": [],
   "source": [
    "#Modifying the Dataframe\n",
    "for row,col in df.iterrows():\n",
    "    df.at[row, predictions[row-1]] = 1\n",
    "#Saving the dataframe to csv file\n",
    "df.to_csv(\"../lr.csv\", index=False, header=False)"
   ]
  },
  {
   "cell_type": "code",
   "execution_count": 11,
   "metadata": {},
   "outputs": [
    {
     "name": "stdout",
     "output_type": "stream",
     "text": [
      "Accuracy = 91.75999999999999 %\n"
     ]
    }
   ],
   "source": [
    "#Calculating the accuracy of the Model\n",
    "score = logisticRegr.score(test_images, test_labels)\n",
    "print(\"Accuracy =\", score*100, \"%\")"
   ]
  },
  {
   "cell_type": "code",
   "execution_count": 12,
   "metadata": {},
   "outputs": [
    {
     "name": "stdout",
     "output_type": "stream",
     "text": [
      "Accuracy = 75.7% for n_estimators = 5 and max_depth = 5\n",
      "Accuracy = 89.5% for n_estimators = 5 and max_depth = 10\n",
      "Accuracy = 90.91666666666667% for n_estimators = 5 and max_depth = 25\n",
      "Accuracy = 91.19166666666668% for n_estimators = 5 and max_depth = 50\n",
      "Accuracy = 79.44166666666666% for n_estimators = 10 and max_depth = 5\n",
      "Accuracy = 92.04166666666667% for n_estimators = 10 and max_depth = 10\n",
      "Accuracy = 94.30833333333334% for n_estimators = 10 and max_depth = 25\n",
      "Accuracy = 94.19166666666666% for n_estimators = 10 and max_depth = 50\n",
      "Accuracy = 82.85% for n_estimators = 20 and max_depth = 5\n",
      "Accuracy = 93.48333333333333% for n_estimators = 20 and max_depth = 10\n",
      "Accuracy = 95.81666666666668% for n_estimators = 20 and max_depth = 25\n",
      "Accuracy = 95.66666666666667% for n_estimators = 20 and max_depth = 50\n",
      "Accuracy = 84.36666666666667% for n_estimators = 50 and max_depth = 5\n",
      "Accuracy = 93.95833333333333% for n_estimators = 50 and max_depth = 10\n",
      "Accuracy = 96.68333333333334% for n_estimators = 50 and max_depth = 25\n",
      "Accuracy = 96.55833333333334% for n_estimators = 50 and max_depth = 50\n",
      "Max Accuracy = 96.68333333333334% for n_estimators = 50 and max_depth = 25\n"
     ]
    }
   ],
   "source": [
    "## Random Forest\n",
    "\n",
    "# Varying the value of n_estmators to find the best value\n",
    "# Varying the value of max_depth to find the best value\n",
    "n_estimators = [5, 10, 20, 50]\n",
    "max_depth = [5, 10, 25, 50]\n",
    "max_score = 0.0\n",
    "# Using Grid search to find the optimal value\n",
    "for val1 in n_estimators:\n",
    "    for val2 in max_depth:\n",
    "        randForest = RandomForestClassifier(n_estimators=val1, max_depth=val2, random_state=0)\n",
    "        randForest.fit(train_images, train_labels)\n",
    "        score = randForest.score(val_images, val_labels)\n",
    "        if(score >= max_score):\n",
    "            max_score = score\n",
    "            n_estimators_opt = val1\n",
    "            max_depth_opt = val2\n",
    "        print(\"Accuracy = {0}% for n_estimators = {1} and max_depth = {2}\".format(score*100, val1, val2))\n",
    "print(\"Max Accuracy = {0}% for n_estimators = {1} and max_depth = {2}\".format(max_score*100, n_estimators_opt, max_depth_opt))"
   ]
  },
  {
   "cell_type": "code",
   "execution_count": 13,
   "metadata": {},
   "outputs": [
    {
     "data": {
      "text/plain": [
       "RandomForestClassifier(bootstrap=True, class_weight=None, criterion='gini',\n",
       "            max_depth=25, max_features='auto', max_leaf_nodes=None,\n",
       "            min_impurity_decrease=0.0, min_impurity_split=None,\n",
       "            min_samples_leaf=1, min_samples_split=2,\n",
       "            min_weight_fraction_leaf=0.0, n_estimators=50, n_jobs=1,\n",
       "            oob_score=False, random_state=0, verbose=0, warm_start=False)"
      ]
     },
     "execution_count": 13,
     "metadata": {},
     "output_type": "execute_result"
    }
   ],
   "source": [
    "# Training the model using the value of C that gives highest score with validation data\n",
    "randForest = RandomForestClassifier(n_estimators=n_estimators_opt, max_depth=max_depth_opt, random_state=0)\n",
    "randForest.fit(train_val_images, train_val_labels)"
   ]
  },
  {
   "cell_type": "code",
   "execution_count": 14,
   "metadata": {},
   "outputs": [
    {
     "name": "stdout",
     "output_type": "stream",
     "text": [
      "[7 2 1 ... 4 5 6]\n"
     ]
    }
   ],
   "source": [
    "# Prediction using Logistic Regression\n",
    "predictions = randForest.predict(test_images)\n",
    "print(predictions)"
   ]
  },
  {
   "cell_type": "code",
   "execution_count": 15,
   "metadata": {},
   "outputs": [
    {
     "name": "stdout",
     "output_type": "stream",
     "text": [
      "Accuracy = 96.71 %\n"
     ]
    }
   ],
   "source": [
    "#Calculating the accuracy of the Model\n",
    "score = randForest.score(test_images, test_labels)\n",
    "print(\"Accuracy =\", score*100, \"%\")"
   ]
  },
  {
   "cell_type": "code",
   "execution_count": 16,
   "metadata": {},
   "outputs": [],
   "source": [
    "#Creating a dataframe of 10000*10 with zeros\n",
    "zero_data = np.zeros(shape=(10000,10), dtype='int32')\n",
    "df = pd.DataFrame(data = zero_data, index = pd.Series(range(1,10001)))"
   ]
  },
  {
   "cell_type": "code",
   "execution_count": 17,
   "metadata": {},
   "outputs": [],
   "source": [
    "#Modifying the Dataframe\n",
    "for row,col in df.iterrows():\n",
    "    df.at[row, predictions[row-1]] = 1\n",
    "#Saving the dataframe to csv file\n",
    "df.to_csv(\"../rf.csv\", index=False, header=False)"
   ]
  }
 ],
 "metadata": {
  "kernelspec": {
   "display_name": "Python 3",
   "language": "python",
   "name": "python3"
  },
  "language_info": {
   "codemirror_mode": {
    "name": "ipython",
    "version": 3
   },
   "file_extension": ".py",
   "mimetype": "text/x-python",
   "name": "python",
   "nbconvert_exporter": "python",
   "pygments_lexer": "ipython3",
   "version": "3.7.0"
  }
 },
 "nbformat": 4,
 "nbformat_minor": 2
}
